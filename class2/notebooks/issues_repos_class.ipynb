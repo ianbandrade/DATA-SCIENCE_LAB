{
  "nbformat": 4,
  "nbformat_minor": 2,
  "metadata": {
    "colab": {
      "name": "issues_repos_class.ipynb",
      "provenance": [],
      "collapsed_sections": []
    },
    "kernelspec": {
      "name": "python3",
      "display_name": "Python 3"
    },
    "language_info": {
      "name": "python"
    }
  },
  "cells": [
    {
      "cell_type": "code",
      "execution_count": 27,
      "source": [
        "import pandas as pd"
      ],
      "outputs": [],
      "metadata": {
        "id": "b-VPn5c3B_un"
      }
    },
    {
      "cell_type": "code",
      "execution_count": 28,
      "source": [
        "url = 'https://raw.githubusercontent.com/LucasRotsen/tcc_case_study_tasks/main/data/task_sample.csv'\n",
        "df = pd.read_csv(url, sep='|', names=['title', 'body', 'label']).dropna()"
      ],
      "outputs": [],
      "metadata": {
        "id": "9M90wlivCewH"
      }
    },
    {
      "cell_type": "code",
      "execution_count": 29,
      "source": [
        "import re\n",
        "from collections import Counter\n",
        "def most_commons_label(df, regex):\n",
        "  return Counter([x['label'] for x in df.to_dict('records') if re.search(regex, x['title'], re.IGNORECASE) or re.search(regex, x['body'], re.IGNORECASE)])"
      ],
      "outputs": [],
      "metadata": {
        "id": "upfPynQMDnyS"
      }
    },
    {
      "cell_type": "markdown",
      "source": [
        "## RQ1\n",
        "\n",
        "Quais as label que as issues são mais classificadas quando no seu título ou corpo de mensagem apresenta um valor que aparenta ser nome de uma versão, como 1.0, 1.1.0, v1.1.1?"
      ],
      "metadata": {
        "id": "bV6HwEayS8w9"
      }
    },
    {
      "cell_type": "code",
      "execution_count": 30,
      "source": [
        "most_commons_label(df, r\"\\bv?\\d+(?:\\.\\d+)?(?:\\.\\d+)?\\b\")"
      ],
      "outputs": [
        {
          "output_type": "execute_result",
          "data": {
            "text/plain": [
              "Counter({'Bug': 3909, 'Feature': 2153, 'Question': 692})"
            ]
          },
          "metadata": {},
          "execution_count": 30
        }
      ],
      "metadata": {
        "id": "k_Xk3huaMTrH",
        "colab": {
          "base_uri": "https://localhost:8080/"
        },
        "outputId": "365120ad-ef23-4f7e-e011-bb33abeab7d6"
      }
    },
    {
      "cell_type": "markdown",
      "source": [
        "## RQ2\n",
        "\n",
        "Quais as label que as issues são mais classificadas quando no seu título ou corpo de mensagem termina com um ponto de interrogação?"
      ],
      "metadata": {
        "id": "L-RgvX_kTCQI"
      }
    },
    {
      "cell_type": "code",
      "execution_count": 31,
      "source": [
        "most_commons_label(df, r\"\\?$\")"
      ],
      "outputs": [
        {
          "output_type": "execute_result",
          "data": {
            "text/plain": [
              "Counter({'Bug': 288, 'Feature': 395, 'Question': 567})"
            ]
          },
          "metadata": {},
          "execution_count": 31
        }
      ],
      "metadata": {
        "id": "Qen_PC4aSh6t",
        "colab": {
          "base_uri": "https://localhost:8080/"
        },
        "outputId": "12dc5f59-835d-4872-bf20-3c4883628588"
      }
    },
    {
      "cell_type": "markdown",
      "source": [
        "## RQ3\n",
        "\n",
        "Quais as label que as issues são mais classificadas quando no seu título ou corpo de mensagem termina com um ponto de exclamação?"
      ],
      "metadata": {
        "id": "CSz056s7TEdh"
      }
    },
    {
      "cell_type": "code",
      "execution_count": 32,
      "source": [
        "most_commons_label(df, r\"\\!$\")"
      ],
      "outputs": [
        {
          "output_type": "execute_result",
          "data": {
            "text/plain": [
              "Counter({'Bug': 126, 'Feature': 123, 'Question': 63})"
            ]
          },
          "metadata": {},
          "execution_count": 32
        }
      ],
      "metadata": {
        "id": "pQ3yx-eeSiG-",
        "colab": {
          "base_uri": "https://localhost:8080/"
        },
        "outputId": "315613a2-6f92-40ff-dcda-358430263c8a"
      }
    },
    {
      "cell_type": "markdown",
      "source": [
        "## RQ4\n",
        "\n",
        "Quais as label que as issues são mais classificadas quando no seu título ou corpo de mensagem apresenta a palavra \"error\" ou \"errors\"?"
      ],
      "metadata": {
        "id": "hqc85CZuTGn7"
      }
    },
    {
      "cell_type": "code",
      "execution_count": 33,
      "source": [
        "most_commons_label(df, r\"\\berrors?\\b\")"
      ],
      "outputs": [
        {
          "output_type": "execute_result",
          "data": {
            "text/plain": [
              "Counter({'Bug': 1532, 'Feature': 353, 'Question': 244})"
            ]
          },
          "metadata": {},
          "execution_count": 33
        }
      ],
      "metadata": {
        "id": "48XPF_4gSiR8",
        "colab": {
          "base_uri": "https://localhost:8080/"
        },
        "outputId": "40ac9c18-350e-4baa-89da-24d26361f96f"
      }
    },
    {
      "cell_type": "markdown",
      "source": [
        "## RQ5\n",
        "\n",
        "Quais as label que as issues são mais classificadas quando no seu título ou corpo de mensagem apresenta a palavra \"bug\" ou \"bugs\"?\n"
      ],
      "metadata": {
        "id": "FioyTrqATIoH"
      }
    },
    {
      "cell_type": "code",
      "execution_count": 34,
      "source": [
        "most_commons_label(df, r\"\\bbugs?\\b\")"
      ],
      "outputs": [
        {
          "output_type": "execute_result",
          "data": {
            "text/plain": [
              "Counter({'Bug': 809, 'Feature': 149, 'Question': 73})"
            ]
          },
          "metadata": {},
          "execution_count": 34
        }
      ],
      "metadata": {
        "id": "7EJ6IUTUSidk",
        "colab": {
          "base_uri": "https://localhost:8080/"
        },
        "outputId": "8341b986-fc34-4fb4-df2d-ad47f9924402"
      }
    }
  ]
}