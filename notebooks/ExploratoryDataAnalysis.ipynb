{
  "nbformat": 4,
  "nbformat_minor": 0,
  "metadata": {
    "kernelspec": {
      "display_name": "Python 3 (ipykernel)",
      "language": "python",
      "name": "python3"
    },
    "language_info": {
      "codemirror_mode": {
        "name": "ipython",
        "version": 3
      },
      "file_extension": ".py",
      "mimetype": "text/x-python",
      "name": "python",
      "nbconvert_exporter": "python",
      "pygments_lexer": "ipython3",
      "version": "3.7.11"
    },
    "colab": {
      "name": "ExploratoryDataAnalysis.ipynb",
      "provenance": []
    }
  },
  "cells": [
    {
      "cell_type": "markdown",
      "metadata": {
        "collapsed": true,
        "id": "7Uft0mSDI0CL"
      },
      "source": [
        "# Área de imports"
      ]
    },
    {
      "cell_type": "code",
      "metadata": {
        "id": "0CYSlJSEJjTl"
      },
      "source": [
        "! pip install texthero"
      ],
      "execution_count": null,
      "outputs": []
    },
    {
      "cell_type": "code",
      "metadata": {
        "id": "oQNBhMYLI0CQ",
        "outputId": "442457e2-15b4-4a15-b411-327e9186eaac",
        "colab": {
          "base_uri": "https://localhost:8080/"
        }
      },
      "source": [
        "import pandas as pd \n",
        "import seaborn as sns \n",
        "import texthero as hero \n",
        "import matplotlib.pyplot as plt "
      ],
      "execution_count": 3,
      "outputs": [
        {
          "output_type": "stream",
          "name": "stderr",
          "text": [
            "[nltk_data] Downloading package stopwords to /root/nltk_data...\n",
            "[nltk_data]   Unzipping corpora/stopwords.zip.\n"
          ]
        }
      ]
    },
    {
      "cell_type": "markdown",
      "metadata": {
        "id": "75_qxjf8I0CR"
      },
      "source": [
        "# Carregamento dos dados"
      ]
    },
    {
      "cell_type": "code",
      "metadata": {
        "id": "EuiN2b03I0CR"
      },
      "source": [
        "df = pd.read_csv('https://raw.githubusercontent.com/LucasRotsen/tcc_case_study_tutorial/main/data/SMSSpamCollection.txt', sep='\\t', names=['label', 'message', 'a'])"
      ],
      "execution_count": 10,
      "outputs": []
    },
    {
      "cell_type": "code",
      "metadata": {
        "id": "NeW1x2kELmmB"
      },
      "source": [
        "df = df[['label', 'message']]"
      ],
      "execution_count": 16,
      "outputs": []
    },
    {
      "cell_type": "markdown",
      "metadata": {
        "id": "H6o8rtk_I0CR"
      },
      "source": [
        "# Análise exploratória dos dados"
      ]
    },
    {
      "cell_type": "code",
      "metadata": {
        "id": "hWUhKvz3K87l",
        "outputId": "68d50471-b581-416e-88f2-8db1bf5ca94a",
        "colab": {
          "base_uri": "https://localhost:8080/"
        }
      },
      "source": [
        "df.columns"
      ],
      "execution_count": 18,
      "outputs": [
        {
          "output_type": "execute_result",
          "data": {
            "text/plain": [
              "Index(['label', 'message'], dtype='object')"
            ]
          },
          "metadata": {},
          "execution_count": 18
        }
      ]
    },
    {
      "cell_type": "code",
      "metadata": {
        "id": "WmycbiC5I0CR",
        "outputId": "d6178f3c-1140-49ba-b072-ffd4691a298e",
        "colab": {
          "base_uri": "https://localhost:8080/"
        }
      },
      "source": [
        "df.shape"
      ],
      "execution_count": 19,
      "outputs": [
        {
          "output_type": "execute_result",
          "data": {
            "text/plain": [
              "(1400, 2)"
            ]
          },
          "metadata": {},
          "execution_count": 19
        }
      ]
    },
    {
      "cell_type": "code",
      "metadata": {
        "id": "bFjwPvKhL7Mp",
        "outputId": "3ce9c7ec-678f-470d-d582-7780ee6c6b8a",
        "colab": {
          "base_uri": "https://localhost:8080/",
          "height": 204
        }
      },
      "source": [
        "df.head(5)"
      ],
      "execution_count": 20,
      "outputs": [
        {
          "output_type": "execute_result",
          "data": {
            "text/html": [
              "<div>\n",
              "<style scoped>\n",
              "    .dataframe tbody tr th:only-of-type {\n",
              "        vertical-align: middle;\n",
              "    }\n",
              "\n",
              "    .dataframe tbody tr th {\n",
              "        vertical-align: top;\n",
              "    }\n",
              "\n",
              "    .dataframe thead th {\n",
              "        text-align: right;\n",
              "    }\n",
              "</style>\n",
              "<table border=\"1\" class=\"dataframe\">\n",
              "  <thead>\n",
              "    <tr style=\"text-align: right;\">\n",
              "      <th></th>\n",
              "      <th>label</th>\n",
              "      <th>message</th>\n",
              "    </tr>\n",
              "  </thead>\n",
              "  <tbody>\n",
              "    <tr>\n",
              "      <th>0</th>\n",
              "      <td>spam</td>\n",
              "      <td>free entry wkly comp win fa cup final tkts 21s...</td>\n",
              "    </tr>\n",
              "    <tr>\n",
              "      <th>1</th>\n",
              "      <td>spam</td>\n",
              "      <td>freemsg hey darling week word back like fun st...</td>\n",
              "    </tr>\n",
              "    <tr>\n",
              "      <th>2</th>\n",
              "      <td>spam</td>\n",
              "      <td>winner valued network customer selected receiv...</td>\n",
              "    </tr>\n",
              "    <tr>\n",
              "      <th>3</th>\n",
              "      <td>spam</td>\n",
              "      <td>mobile months u r entitled update latest colou...</td>\n",
              "    </tr>\n",
              "    <tr>\n",
              "      <th>4</th>\n",
              "      <td>spam</td>\n",
              "      <td>six chances win cash pounds txt csh11 send cos...</td>\n",
              "    </tr>\n",
              "  </tbody>\n",
              "</table>\n",
              "</div>"
            ],
            "text/plain": [
              "  label                                            message\n",
              "0  spam  free entry wkly comp win fa cup final tkts 21s...\n",
              "1  spam  freemsg hey darling week word back like fun st...\n",
              "2  spam  winner valued network customer selected receiv...\n",
              "3  spam  mobile months u r entitled update latest colou...\n",
              "4  spam  six chances win cash pounds txt csh11 send cos..."
            ]
          },
          "metadata": {},
          "execution_count": 20
        }
      ]
    },
    {
      "cell_type": "code",
      "metadata": {
        "id": "E8xLOrFlL_fP"
      },
      "source": [
        "df[df['label'] == 'spam'].head(15) ## os primeiros 15 primeiros de spam "
      ],
      "execution_count": null,
      "outputs": []
    },
    {
      "cell_type": "code",
      "metadata": {
        "id": "PVgB0FMdMJu1"
      },
      "source": [
        "df[df['label'] == 'ham'].head(15) ## os primeiros 15 primeiros de ham "
      ],
      "execution_count": null,
      "outputs": []
    },
    {
      "cell_type": "code",
      "metadata": {
        "id": "n8ia8ZuaMRcW",
        "outputId": "c06ce550-3068-4748-f81d-2fe8c6904fe5",
        "colab": {
          "base_uri": "https://localhost:8080/"
        }
      },
      "source": [
        "df.isna().sum() ## dados faltantes em cada coluna"
      ],
      "execution_count": 23,
      "outputs": [
        {
          "output_type": "execute_result",
          "data": {
            "text/plain": [
              "label      0\n",
              "message    1\n",
              "dtype: int64"
            ]
          },
          "metadata": {},
          "execution_count": 23
        }
      ]
    },
    {
      "cell_type": "code",
      "metadata": {
        "id": "cin7pEfJMg3n",
        "outputId": "2b183aec-b88f-4853-97f4-d433f7b588f1",
        "colab": {
          "base_uri": "https://localhost:8080/"
        }
      },
      "source": [
        "df['label'].value_counts() ## distribuicao de dados (balanceamento)"
      ],
      "execution_count": 27,
      "outputs": [
        {
          "output_type": "execute_result",
          "data": {
            "text/plain": [
              "spam    700\n",
              "ham     700\n",
              "Name: label, dtype: int64"
            ]
          },
          "metadata": {},
          "execution_count": 27
        }
      ]
    },
    {
      "cell_type": "code",
      "metadata": {
        "id": "LJAfzPN6Mwbp"
      },
      "source": [
        "df['label'].value_counts().plot(kind='bar') ## distribuicao de dados + grafico"
      ],
      "execution_count": null,
      "outputs": []
    },
    {
      "cell_type": "code",
      "metadata": {
        "id": "slflzHkzNfuE"
      },
      "source": [
        "df = df.dropna() ## deletar registro nulo"
      ],
      "execution_count": 30,
      "outputs": []
    },
    {
      "cell_type": "code",
      "metadata": {
        "id": "eEXXfGzfM-g8",
        "outputId": "dded8d6f-bddb-43a1-8d58-149c7a72f3b8",
        "colab": {
          "base_uri": "https://localhost:8080/"
        }
      },
      "source": [
        "df['message-size'] = df['message'].apply(lambda x: len(x))\n",
        "\n",
        "df.groupby('label')['message-size'].mean() \n",
        "\n",
        "## calcular a media de palavras por tipo de mensagem\n"
      ],
      "execution_count": 34,
      "outputs": [
        {
          "output_type": "execute_result",
          "data": {
            "text/plain": [
              "label\n",
              "ham     43.991416\n",
              "spam    92.261429\n",
              "Name: message-size, dtype: float64"
            ]
          },
          "metadata": {},
          "execution_count": 34
        }
      ]
    },
    {
      "cell_type": "code",
      "metadata": {
        "id": "dTcfaCqQOQCQ"
      },
      "source": [
        "## definir quais sao as palavras mais comuns \n",
        "\n",
        "def text_cleaning(df):\n",
        "  custom_pip = [\n",
        "                hero.preprocessing.lowercase,\n",
        "                hero.preprocessing.remove_digits,\n",
        "                hero.preprocessing.remove_punctuation,\n",
        "                hero.preprocessing.remove_stopwords,\n",
        "                hero.preprocessing.remove_whitespace\n",
        "  ]\n",
        "\n",
        "  return hero.clean(df['message'], custom_pip)"
      ],
      "execution_count": 38,
      "outputs": []
    },
    {
      "cell_type": "code",
      "metadata": {
        "id": "TSXaXLpKOn6q"
      },
      "source": [
        "df['message'] = text_cleaning(df)"
      ],
      "execution_count": 41,
      "outputs": []
    },
    {
      "cell_type": "code",
      "metadata": {
        "id": "Ij5ojO8DPYbg"
      },
      "source": [
        "def collect_n_most_frequent_words(df, n):\n",
        "  return pd.Series(' '.join(df['message']).split()).value_counts()[:n].to_dict()"
      ],
      "execution_count": 44,
      "outputs": []
    },
    {
      "cell_type": "code",
      "metadata": {
        "id": "3PCFfRAWQKqw"
      },
      "source": [
        "spam_df = df[df['label'] == 'spam'] \n",
        "\n",
        "top_20 = collect_n_most_frequent_words(spam_df, 20)"
      ],
      "execution_count": 46,
      "outputs": []
    },
    {
      "cell_type": "code",
      "metadata": {
        "id": "4tEaNgr-QbhA",
        "outputId": "4ba89921-2820-4e43-c916-9e0df9de64d1",
        "colab": {
          "base_uri": "https://localhost:8080/",
          "height": 478
        }
      },
      "source": [
        "plt.figure(figsize=(12,6))\n",
        "\n",
        "chart = sns.barplot(\n",
        "    list(top_20.keys()),\n",
        "    list(top_20.values())\n",
        ").set_title(\"Top #20 most frequents words\")"
      ],
      "execution_count": 50,
      "outputs": [
        {
          "output_type": "stream",
          "name": "stderr",
          "text": [
            "/usr/local/lib/python3.7/dist-packages/seaborn/_decorators.py:43: FutureWarning:\n",
            "\n",
            "Pass the following variables as keyword args: x, y. From version 0.12, the only valid positional argument will be `data`, and passing other arguments without an explicit keyword will result in an error or misinterpretation.\n",
            "\n"
          ]
        },
        {
          "output_type": "display_data",
          "data": {
            "image/png": "[encoded data removed]",
            "text/plain": [
              "<Figure size 864x432 with 1 Axes>"
            ]
          },
          "metadata": {
            "needs_background": "light"
          }
        }
      ]
    },
    {
      "cell_type": "code",
      "metadata": {
        "id": "HzUfKKzZQ2OQ"
      },
      "source": [
        ""
      ],
      "execution_count": null,
      "outputs": []
    }
  ]
}